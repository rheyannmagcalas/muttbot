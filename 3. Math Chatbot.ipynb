{
 "cells": [
  {
   "cell_type": "code",
   "execution_count": null,
   "metadata": {},
   "outputs": [],
   "source": [
    "import random\n",
    "import spacy\n",
    "import wikipedia\n",
    "import telegram\n",
    "import math\n",
    "from random import *\n",
    "\n",
    "from clarifai.rest import ClarifaiApp, Image\n",
    "from spellchecker import SpellChecker\n",
    "from telegram.ext import Updater, CommandHandler, MessageHandler, Filters\n",
    "\n",
    "wiki_api = wikipediaapi.Wikipedia('en')\n",
    "bot = telegram.Bot(token='<token>')"
   ]
  },
  {
   "cell_type": "markdown",
   "metadata": {},
   "source": [
    "### Read and Initialize Information"
   ]
  },
  {
   "cell_type": "code",
   "execution_count": null,
   "metadata": {},
   "outputs": [],
   "source": [
    "mathematicians = pd.read_csv('mathematicians2.csv') \n",
    "math_words = pd.read_csv('words.csv') \n",
    "\n",
    "lastname = list(mathematicians['lastname'])\n",
    "mathematicians[\"fullname\"] = mathematicians[\"firstname\"] + mathematicians[\"lastname\"]\n",
    "fullname = list(mathematicians[\"fullname\"])\n",
    "math_words_list = list(math_words[\"word\"])\n",
    "math_words.loc[math_words['word']=='bell curve']\n",
    "\n",
    "shapes = {\n",
    "    'square':{\n",
    "        'description': \"A Square is a flat shape with 4 equal sides and every angle is a right angle (90°).\",\n",
    "    },\n",
    "    'rectangle':{\n",
    "        'description': \"A rectangle is a four-sided flat shape where every angle is a right angle (90°).\",\n",
    "    },'triangle':{\n",
    "        'description': \"A triangle has three sides and three angles.\",\n",
    "    }, 'parallelogram':{\n",
    "        'description': \"A Parallelogram is a flat shape with opposite sides parallel and equal in length.\",\n",
    "    },'trapezoid':{\n",
    "        'description': \"A trapezoid is a 4-sided flat shape with straight sides that has a pair of opposite sides parallel \",\n",
    "    }, 'cube':{\n",
    "        'description': \"A cube is a three-dimensional solid object bounded by six square faces, facets or sides, with three meeting at each vertex. \",\n",
    "    },'cylinder':{\n",
    "        'description': \"A cylinder is a closed solid that has two parallel (usually circular) bases connected by a curved surface.\",\n",
    "    },'cone':{\n",
    "        'description': \"A cone is a solid that has a circular base and a a single vertex.\",\n",
    "    },'sphere':{\n",
    "        'description': \"A sphere is a geometrical object in three-dimensional space that is the surface of a ball.\",\n",
    "    }\n",
    "}\n",
    "\n",
    "concepts = ['perimeter', 'area', 'volume']\n",
    "\n",
    "formula = {\n",
    "    'perimeter': {\n",
    "        'square': 'Formula = 4 × a, a = length of side',\n",
    "        'rectangle': 'Formula = 2 × (a + b)',\n",
    "        'triangle': 'Formula = a + b + c',\n",
    "        'circle': 'Formula = 2πr, r = radius'\n",
    "    },\n",
    "    'area':{\n",
    "        'square': 'Formula = a2, a = length of side',\n",
    "        'rectangle': 'Formula = w × h, w = width, h = height',\n",
    "        'circle': 'Formula = π × r2, Circumference = 2 × π × r, r = radius',\n",
    "        'parallelogram': 'Formula = b × h, b = base, h = vertical height',\n",
    "        'trapezoid': 'Formula = ½(a+b) × h, h = vertical height'\n",
    "    },\n",
    "    'volume':{\n",
    "        'triangle': 'Formula: 1/2 x b x h, b is the length of the base and h is the length of the height',\n",
    "        'cube': 'Formula: s x 3, s is the length of the side.',\n",
    "        'cyclinder': 'Formula: pi x r x 2 x h, L is the length, W is the width and H is the height.',\n",
    "        'cone': 'Formula: 1/3 x pi x r x 2 x h, r is the radius, h is the height.',\n",
    "        'sphere': 'Formula: 4/3 x pi x r x 3, r is the radius.'\n",
    "    }\n",
    "}"
   ]
  },
  {
   "cell_type": "markdown",
   "metadata": {},
   "source": [
    "### Welcome Message"
   ]
  },
  {
   "cell_type": "code",
   "execution_count": null,
   "metadata": {},
   "outputs": [],
   "source": [
    "def start(update, context):\n",
    "    global username, reset_chat\n",
    "    username = ''\n",
    "    reset_chat = True\n",
    "    \n",
    "    update.message.reply_text('Welcome! I am Matt the Mutt, your friendly furry companion to guide you in your PAWesome adventure in the world of Mathematics. What’s your name?')"
   ]
  },
  {
   "cell_type": "markdown",
   "metadata": {},
   "source": [
    "### Process Keyphrase"
   ]
  },
  {
   "cell_type": "code",
   "execution_count": null,
   "metadata": {},
   "outputs": [],
   "source": [
    "def keyphrase(doc, update):\n",
    "    if len(doc) == 1:\n",
    "        if doc[0].text in lastname:\n",
    "            return {'result': mathematicians.loc[mathematicians['lastname'] == str(doc[0].text)]['summary'].values}\n",
    "        elif (doc[0].dep_== 'ROOT' and doc[0].pos_ == 'NOUN') or (doc[0].dep_== 'ROOT' and doc[0].pos_ == 'PROPN'):\n",
    "            return doc[0].lemma_.capitalize()\n",
    "    else:\n",
    "        if doc[0].pos_ == 'PRON':\n",
    "            pronoun_list = []\n",
    "            noun_list = []\n",
    "            available_shape = ''\n",
    "            available_concept = ''\n",
    "            for t in reversed(doc):\n",
    "                if t.text in shapes.keys():\n",
    "                    available_shape = str(t.text.lower())\n",
    "                if t.text in concepts:\n",
    "                    available_concept = str(t.text.lower()) \n",
    "                    \n",
    "                if t.pos_ == 'PROPN' or t.text in lastname:\n",
    "                    pronoun_list.append(t.text)\n",
    "                elif t.pos_ == 'NOUN':\n",
    "                    noun_list.append(t.lemma_.lower())    \n",
    "                else:\n",
    "                    if t.lemma_ in math_words_list:\n",
    "                        return {'result': math_words.loc[math_words['word'] == t.lemma_]['description'].values}\n",
    "                    else:\n",
    "                        if t.i < len(doc)-1:\n",
    "                            index_value = int(t.i)\n",
    "                            check_word = '{} {}'.format(str(doc[t.i+1]), str(doc[index_value]))\n",
    "                            if check_word in math_words_list:\n",
    "                                return {'result': math_words.loc[math_words['word'] == check_word]['description'].values}                                \n",
    "                \n",
    "            \n",
    "            if available_concept != '' and available_shape != '':\n",
    "                if available_concept in formula.keys():\n",
    "                    if available_shape in formula[available_concept].keys():\n",
    "                        msg_id = update.message.chat\n",
    "\n",
    "                        bot.send_photo(msg_id['id'], open('formula/{}_{}.png'.format(available_concept, available_shape), 'rb'))\n",
    "\n",
    "                        return {'result': formula[available_concept][available_shape]}\n",
    "                    else:\n",
    "                        return {'result': 'Sorry, the {} of {} formula is not yet available'.format(available_concept, available_shape)}\n",
    "                else:\n",
    "                    return {'result': 'Sorry, the {} of {} formula is not yet available'.format(available_concept, available_shape)}\n",
    "            \n",
    "            elif available_shape != '':\n",
    "                msg_id = update.message.chat\n",
    "                bot.send_photo(msg_id['id'], open('shapes/{}.png'.format(available_shape), 'rb'))\n",
    "                return {'result': shapes[available_shape]['description']}\n",
    "                \n",
    "                \n",
    "            if len(pronoun_list) > 1:\n",
    "                pronoun_list.reverse()\n",
    "                pronoun_list = ' '.join(pronoun_list)\n",
    "                \n",
    "                if pronoun_list in fullname:\n",
    "                    return {'result': mathematicians.loc[mathematicians['fullname'] == pronoun_list]['summary'].values}\n",
    "                else:\n",
    "                    return pronoun_list\n",
    "            elif len(pronoun_list) == 1:\n",
    "                if pronoun_list[0] in lastname:\n",
    "                       return {'result': mathematicians.loc[mathematicians['lastname'] == pronoun_list[0]]['summary'].values}\n",
    "            else:\n",
    "                if len(noun_list) > 0:\n",
    "                    return ' '.join(noun_list)\n",
    "            \n",
    "        for t in doc:\n",
    "            if t.dep_ == 'pobj' and (t.pos_ == 'NOUN' or t.pos_ == 'PROPN'):\n",
    "                return (' '.join([child.text for child in t.lefts]) + ' ' + t.text).lstrip()\n",
    "            \n",
    "            for t in reversed(doc):\n",
    "                if t.dep_ == 'nsubj' and (t.pos_ == 'NOUN' or t.pos_ == 'PROPN'):\n",
    "                    return t.text + ' ' + t.head.text\n",
    "                \n",
    "            for t in reversed(doc):\n",
    "                if t.dep_ == 'dobj' and (t.pos_ == 'NOUN' or t.pos_ == 'PROPN'):\n",
    "                    return t.head.text + 'ing' + ' ' + t.text\n",
    "        return False"
   ]
  },
  {
   "cell_type": "markdown",
   "metadata": {},
   "source": [
    "### Wikipedia Checker"
   ]
  },
  {
   "cell_type": "code",
   "execution_count": null,
   "metadata": {},
   "outputs": [],
   "source": [
    "def wiki(concept, msg):\n",
    "    nlp = spacy.load('en')\n",
    "    doc_concept = nlp(concept)\n",
    "    concept = ' '.join(map(str, list(doc_concept.noun_chunks)))\n",
    "    \n",
    "    wiki_resp = wiki_api.page(concept)\n",
    "    r1 = re.search(\"\\(([^)]+)\\)\", wiki_resp.summary)\n",
    "    summary = wiki_resp.summary\n",
    "    summary = summary.split(\"\\n\")\n",
    "    summary = summary[0]\n",
    "    result = wiki_resp.summary\n",
    "    if r1 is not None:\n",
    "        span = r1.span()\n",
    "        result = wiki_resp.summary.replace(str(summary[span[0]:span[1]]), \"\")\n",
    "    \n",
    "    result = result.split(\".\")    \n",
    "    if len(result) > 0:\n",
    "        doc = nlp(result[0])\n",
    "        for sent in doc.sents:\n",
    "            for t in sent:\n",
    "                if t.text == concept and t.dep_ == 'dobj':\n",
    "                    return sent.text\n",
    "        if len(list(doc.sents)) > 0: \n",
    "            return list(doc.sents)[0].text\n",
    "        else:\n",
    "            return 'No results found: Try Searching {}'.format(check_spelling(msg))\n",
    "    else:\n",
    "        return 'No results found: Possible Suggestion {}'.format(check_spelling(msg))"
   ]
  },
  {
   "cell_type": "markdown",
   "metadata": {},
   "source": [
    "### Spelling Checker"
   ]
  },
  {
   "cell_type": "code",
   "execution_count": null,
   "metadata": {},
   "outputs": [],
   "source": [
    "def check_spelling(msg):\n",
    "    result = \"\"\n",
    "    spell = SpellChecker()\n",
    "    \n",
    "    msg_list = msg.split(\" \")\n",
    "    misspelled = spell.unknown(msg_list)\n",
    "    misspelled = list(misspelled)\n",
    "    \n",
    "    for _msg_list in msg_list:\n",
    "        if _msg_list in misspelled:\n",
    "            result += spell.correction(_msg_list)+\" \"\n",
    "        else:\n",
    "            result += _msg_list+\" \"\n",
    "            \n",
    "    return result.strip()"
   ]
  },
  {
   "cell_type": "markdown",
   "metadata": {},
   "source": [
    "### Text Checker Which Selection to Go"
   ]
  },
  {
   "cell_type": "code",
   "execution_count": null,
   "metadata": {},
   "outputs": [],
   "source": [
    "def text_msg(update, context):\n",
    "    msg = update.message.text\n",
    "    global reset_chat, answer, current_mode\n",
    "    if reset_chat:\n",
    "        global username\n",
    "        username = msg\n",
    "        reset = False\n",
    "        message = \"\"\"Hi {}, it is very nice to meet you. I hope we can be friends for a long time. Let’s start by choosing the mode:\n",
    "        \\n\n",
    "        /search - Search the web with important math concepts and famous mathematicians.\n",
    "         \\n\n",
    "        /compute - Compute simple problems in Algebra, Geometry and Trigonometry.\n",
    "         \\n\n",
    "        /play - Review by answering some questions based on the topics we reviewed.\n",
    "         \\n\n",
    "        /help - Read the documentation and instructions in using this chatbot.\n",
    "        \\n\n",
    "        /quit - Exit chatbot\"\"\".format(username)\n",
    "\n",
    "        update.message.reply_text(message)\n",
    "    \n",
    "    else:\n",
    "        reset_chat = False\n",
    "        if current_mode == 'search':\n",
    "            nlp = spacy.load('en')\n",
    "            doc = nlp(msg)\n",
    "            concept = keyphrase(doc, update)\n",
    "            if type(concept) == dict:\n",
    "                if type(concept['result']) == 'list':\n",
    "                    update.message.reply_text(concept['result'][0])\n",
    "                else:\n",
    "                    update.message.reply_text(concept['result'])\n",
    "            else:\n",
    "                if concept != False:\n",
    "                    update.message.reply_text(wiki(concept, msg))\n",
    "                else:\n",
    "                    update.message.reply_text('Please rephrase your question.')\n",
    "        elif current_mode == 'compute':\n",
    "            num = update.message.text\n",
    "            num = num.strip()\n",
    "            compute = ''\n",
    "            try:\n",
    "                compute = \"{}\".format(eval(num))\n",
    "            except:\n",
    "                compute = 'Please input a valid arithmetic operation.'\n",
    "            update.message.reply_text(compute)\n",
    "        reset_chat = False\n",
    "        if current_mode == 'Waiting for answer...':\n",
    "                answer_response = update.message.text\n",
    "                try:\n",
    "                    answer_response = int(answer_response)\n",
    "                    if answer_response == answer:\n",
    "                        current_mode = \"review\"\n",
    "                        update.message.reply_text(\"You're PAWesome!\")\n",
    "                    else:\n",
    "                        update.message.reply_text(\"Try again. Be PAWsitive, you can do it!\")\n",
    "                except:\n",
    "                    update.message.reply_text(\"Input a number.\")"
   ]
  },
  {
   "cell_type": "markdown",
   "metadata": {},
   "source": [
    "### Start Message for Search"
   ]
  },
  {
   "cell_type": "code",
   "execution_count": null,
   "metadata": {},
   "outputs": [],
   "source": [
    "def search(update, context):\n",
    "    global current_mode, reset_chat\n",
    "    current_mode = 'search'\n",
    "    reset_chat = False\n",
    "    update.message.reply_text(\"\"\"Hi {}, want to know some mathematical concepts or famous mathematicians? Try typing ‘Who is Archimedes?’ to start!\"\"\".format(username))"
   ]
  },
  {
   "cell_type": "markdown",
   "metadata": {},
   "source": [
    "### Start Message for Compute"
   ]
  },
  {
   "cell_type": "code",
   "execution_count": null,
   "metadata": {},
   "outputs": [],
   "source": [
    "def compute(update, context):\n",
    "    global current_mode, reset_chat\n",
    "    current_mode = 'compute'\n",
    "    reset_chat = False\n",
    "    update.message.reply_text(\"\"\"Hi {}, let's compute some arithmetic and trigonometric problems. Are you ready because I sure am. Let's go\n",
    "        \\n\n",
    "        Arithmetic - ex. (((5+1)-(1+1))*factorial(2))/ remainder(4,3)\n",
    "        \\n\n",
    "        Trigonometric - ex. sin(pi/2), degrees(acos(0.85))\"\"\".format(username))"
   ]
  },
  {
   "cell_type": "markdown",
   "metadata": {},
   "source": [
    "### Start Message for Play"
   ]
  },
  {
   "cell_type": "code",
   "execution_count": null,
   "metadata": {},
   "outputs": [],
   "source": [
    "def play(update, context):\n",
    "    global current_mode, reset_chat\n",
    "    current_mode = 'games'\n",
    "    reset_chat = False\n",
    "    update.message.reply_text(\"\"\"Hi {}, now that we've learned a lot. Let us try solving some problems. Let us bring your knowledge to the test. Let's start by choosing a difficulty level:\n",
    "        \\n\n",
    "        /easy - Solve simple arithmetic problems!\n",
    "        \\n\n",
    "        /average - Let's try harder problems!\n",
    "        \\n\n",
    "        /difficult - That's great! I like the confidence!\"\"\".format(username))"
   ]
  },
  {
   "cell_type": "markdown",
   "metadata": {},
   "source": [
    "### Easy Math Questions"
   ]
  },
  {
   "cell_type": "code",
   "execution_count": null,
   "metadata": {},
   "outputs": [],
   "source": [
    "def easy(update, context):\n",
    "    global current_mode, reset_chat, score\n",
    "    current_mode = 'easy'\n",
    "    reset_chat = False\n",
    "    math_easy(update, context)"
   ]
  },
  {
   "cell_type": "code",
   "execution_count": null,
   "metadata": {},
   "outputs": [],
   "source": [
    "def math_easy(update, context):\n",
    "    global answer, current_mode\n",
    "    num1 = randint(1, 10)\n",
    "    num2 = randint(1, 10)\n",
    "    symbol = randint(1,3)\n",
    "    \n",
    "    if symbol == 1:\n",
    "        question = (\"What is \" + str(num1) + \"+\" + str(num2) + \"?\")\n",
    "        answer = num1 + num2\n",
    "        current_mode = 'Waiting for answer...'\n",
    "        update.message.reply_text(question)\n",
    "\n",
    "    elif symbol == 2:\n",
    "        question = (\"What is \" + str(num1) + \"-\" + str(num2) + \"?\")\n",
    "        answer = num1 - num2\n",
    "        current_mode = 'Waiting for answer...'\n",
    "        update.message.reply_text(question)\n",
    "\n",
    "    elif symbol == 3:\n",
    "        question = (\"What is \" + str(num1) + \"*\" + str(num2) + \"?\")\n",
    "        answer = num1 * num2\n",
    "        current_mode = 'Waiting for answer...'\n",
    "        update.message.reply_text(question)"
   ]
  },
  {
   "cell_type": "markdown",
   "metadata": {},
   "source": [
    "### Average Math Questions"
   ]
  },
  {
   "cell_type": "code",
   "execution_count": null,
   "metadata": {},
   "outputs": [],
   "source": [
    "def average(update, context):\n",
    "    global current_mode, reset_chat, score\n",
    "    current_mode = 'average'\n",
    "    reset_chat = False\n",
    "    math_average(update, context)"
   ]
  },
  {
   "cell_type": "code",
   "execution_count": null,
   "metadata": {},
   "outputs": [],
   "source": [
    "def math_average(update, context):\n",
    "    global answer, current_mode\n",
    "    num1 = randint(1, 10)\n",
    "    num2 = randint(1, 10)\n",
    "    num3 = randint(1, 5)\n",
    "    symbol = randint(1, 3)\n",
    "    \n",
    "    if symbol == 1:\n",
    "        question = (\"What is \" + str(num1) + \"+\" + str(num2) + \"+\" + str(num3) + \"?\")\n",
    "        answer = num1 + num2 + num3\n",
    "        current_mode = 'Waiting for answer...'\n",
    "        update.message.reply_text(question)        \n",
    "\n",
    "    elif symbol == 2:\n",
    "        question = (\"What is \" + str(num1) + \"-\" + str(num2) + \"-\" + str(num3) + \"?\")\n",
    "        answer = num1 - num2 - num3\n",
    "        current_mode = 'Waiting for answer...'\n",
    "        update.message.reply_text(question)\n",
    "        \n",
    "    elif symbol == 3:\n",
    "        question = (\"What is \" + str(num1) + \"*\" + str(num2) + \"*\" + str(num3) +\"?\")\n",
    "        answer = num1 * num2 * num3\n",
    "        current_mode = 'Waiting for answer...'\n",
    "        update.message.reply_text(question)"
   ]
  },
  {
   "cell_type": "markdown",
   "metadata": {},
   "source": [
    "### Difficult Math Questions"
   ]
  },
  {
   "cell_type": "code",
   "execution_count": null,
   "metadata": {},
   "outputs": [],
   "source": [
    "def difficult(update, context):\n",
    "    global current_mode, reset_chat, score\n",
    "    current_mode = 'difficult'\n",
    "    reset_chat = False\n",
    "    math_difficult(update, context)"
   ]
  },
  {
   "cell_type": "code",
   "execution_count": null,
   "metadata": {},
   "outputs": [],
   "source": [
    "def math_difficult(update, context):\n",
    "    global answer, current_mode\n",
    "    symbol = randint(1, 2)\n",
    "    \n",
    "    if symbol == 1:\n",
    "        num1 =randint(1,10)\n",
    "        question = (\"What is \" + str(num1) + \" factorial ?\")\n",
    "        answer = factorial(num1)\n",
    "        current_mode = 'Waiting for answer...'\n",
    "        update.message.reply_text(question)     \n",
    "\n",
    "    elif symbol == 2:\n",
    "        list_number = [1, 4, 9, 16, 25, 36, 49, 64, 81, 100, 121, 144, 169, 196, 225, 256, 289, 324, 361, 400, 441, 484, 529, 576, 625, 676, 729, 784, 841, 900]\n",
    "        num2 = list_number[randint(0,30)]\n",
    "        question = (\"What is the square root of \" + str(num2) + \" ?\")\n",
    "        answer = sqrt(num2)\n",
    "        current_mode = 'Waiting for answer...'\n",
    "        update.message.reply_text(question)     "
   ]
  },
  {
   "cell_type": "markdown",
   "metadata": {},
   "source": [
    "### Show Documentation"
   ]
  },
  {
   "cell_type": "code",
   "execution_count": null,
   "metadata": {},
   "outputs": [],
   "source": [
    "def show_help(update, context):\n",
    "    global current_mode, reset_chat\n",
    "    current_mode = 'help'\n",
    "    reset_chat = False\n",
    "    update.message.reply_text(\"\"\"Hi {}, Please refer to the following links for the documentation:\"\"\".format(username))"
   ]
  },
  {
   "cell_type": "markdown",
   "metadata": {},
   "source": [
    "### Quit Chatbot"
   ]
  },
  {
   "cell_type": "code",
   "execution_count": null,
   "metadata": {},
   "outputs": [],
   "source": [
    "def show_quit(update, context):\n",
    "    global current_mode, reset_chat\n",
    "    current_mode = 'quit'\n",
    "    reset_chat = True\n",
    "    update.message.reply_text(\"\"\"Hi {}, Have a nice day and goodbye\"\"\".format(username))"
   ]
  },
  {
   "cell_type": "markdown",
   "metadata": {},
   "source": [
    "### Main Application"
   ]
  },
  {
   "cell_type": "code",
   "execution_count": null,
   "metadata": {},
   "outputs": [],
   "source": [
    "def main():\n",
    "    updater = Updater(\"<token>\", use_context=True)\n",
    "    disp = updater.dispatcher\n",
    "    disp.add_handler(CommandHandler(\"start\", start))\n",
    "    disp.add_handler(CommandHandler(\"search\", search))\n",
    "    disp.add_handler(CommandHandler(\"compute\", compute))\n",
    "    disp.add_handler(CommandHandler(\"play\", play))\n",
    "    disp.add_handler(CommandHandler(\"easy\", easy))\n",
    "    disp.add_handler(CommandHandler(\"average\", average))\n",
    "    disp.add_handler(CommandHandler(\"difficult\", difficult))\n",
    "    disp.add_handler(CommandHandler(\"help\", show_help))\n",
    "    disp.add_handler(CommandHandler(\"quit\", show_quit))\n",
    "    disp.add_handler(MessageHandler(Filters.text, text_msg))\n",
    "    updater.start_polling()\n",
    "    updater.idle()"
   ]
  },
  {
   "cell_type": "code",
   "execution_count": null,
   "metadata": {},
   "outputs": [],
   "source": [
    "if __name__ == '__main__':\n",
    "    main()"
   ]
  }
 ],
 "metadata": {
  "kernelspec": {
   "display_name": "Python 3",
   "language": "python",
   "name": "python3"
  },
  "language_info": {
   "codemirror_mode": {
    "name": "ipython",
    "version": 3
   },
   "file_extension": ".py",
   "mimetype": "text/x-python",
   "name": "python",
   "nbconvert_exporter": "python",
   "pygments_lexer": "ipython3",
   "version": "3.8.6"
  }
 },
 "nbformat": 4,
 "nbformat_minor": 4
}
