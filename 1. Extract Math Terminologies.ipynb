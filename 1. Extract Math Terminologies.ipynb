{
 "cells": [
  {
   "cell_type": "code",
   "execution_count": 10,
   "metadata": {},
   "outputs": [],
   "source": [
    "from bs4 import BeautifulSoup\n",
    "from IPython import embed\n",
    "import pandas as pd\n",
    "import requests\n",
    "\n",
    "import wikipediaapi\n",
    "import wikipedia\n",
    "wiki_wiki = wikipediaapi.Wikipedia('en')\n",
    "\n",
    "BASE_URL = \"https://www.storyofmathematics.com/glossary.html\"\n",
    "\n",
    "\n",
    "def get_random_number():\n",
    "    return random.randint(1, 5)\n",
    "\n",
    "def delay(seconds):\n",
    "    print(f\"Sleeping for {seconds} second(s)\")\n",
    "    \n",
    "\n",
    "def extract_html_content(target_url):\n",
    "    response = requests.get(target_url)\n",
    "    return response.text\n",
    "\n",
    "def extract_target_from_value(target_url):\n",
    "    \n",
    "    soup = BeautifulSoup(target_url, 'html.parser')\n",
    "    \n",
    "    mathematicians = {}\n",
    "    \n",
    "    counter = 0\n",
    "    math_word = []\n",
    "    math_description = []\n",
    "    for div in soup.find_all('p'):\n",
    "        counter +=1\n",
    "        if counter > 5 and counter < 190:\n",
    "            details = div.text.split(\":\")\n",
    "            if len(details) > 1:\n",
    "                math_word.append(details[0].strip())\n",
    "                math_description.append(details[1].strip())\n",
    "            \n",
    "            \n",
    "    df = pd.DataFrame(data={'word': math_word, 'description': math_description})\n",
    "    df.to_csv(\"words.csv\", sep=',',index=False)\n",
    "\n",
    "\n",
    "def main():\n",
    "    text = extract_html_content(BASE_URL)\n",
    "    extract_target_from_value(text)\n",
    "        \n",
    "if __name__ == \"__main__\":\n",
    "    main()"
   ]
  }
 ],
 "metadata": {
  "kernelspec": {
   "display_name": "Python 3",
   "language": "python",
   "name": "python3"
  },
  "language_info": {
   "codemirror_mode": {
    "name": "ipython",
    "version": 3
   },
   "file_extension": ".py",
   "mimetype": "text/x-python",
   "name": "python",
   "nbconvert_exporter": "python",
   "pygments_lexer": "ipython3",
   "version": "3.8.6"
  }
 },
 "nbformat": 4,
 "nbformat_minor": 4
}
